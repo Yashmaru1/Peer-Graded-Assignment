{
 "cells": [
  {
   "cell_type": "markdown",
   "id": "64c6adb8-3104-4e67-a5ab-1a9460172370",
   "metadata": {},
   "source": [
    "# Data Science Tools and Ecosystem"
   ]
  },
  {
   "cell_type": "markdown",
   "id": "78c4653b-5ce6-44a6-938f-4bef66628866",
   "metadata": {},
   "source": [
    "In this notebook, Data Science Tools and Ecosystem are summarized."
   ]
  },
  {
   "cell_type": "markdown",
   "id": "1c9aab7a-d0e6-4552-bdc1-9209f4f612b1",
   "metadata": {},
   "source": [
    "**Objectives:**\n",
    "* List popular languages for Data Science\n",
    "* List commonly used libraries used by Data Scientists\n",
    "* Name popular used Data Science Tools"
   ]
  },
  {
   "cell_type": "markdown",
   "id": "1477e8b0-8533-4028-b63c-2b15bc83c182",
   "metadata": {},
   "source": [
    "Some of the popular languages that Data Scientists use are:\n",
    "1. Python\n",
    "2. R\n",
    "3. SQL"
   ]
  },
  {
   "cell_type": "markdown",
   "id": "b2cea3f1-0ad2-4426-bc1e-ebc249b43a0e",
   "metadata": {},
   "source": [
    "Some of the commonly used libraries used by Data Scientists include:\n",
    "1. Pandas\n",
    "2. Numpy\n",
    "3. Matplotlib\n"
   ]
  },
  {
   "cell_type": "markdown",
   "id": "bf752021-62f7-4d89-bb74-b1882d640b14",
   "metadata": {},
   "source": [
    "| Data Science Tools |\n",
    "| ----------------- |\n",
    "| Jupyter |\n",
    "| Apache Zeppelin |\n",
    "| Rstudio |\n",
    "\n"
   ]
  },
  {
   "cell_type": "markdown",
   "id": "6c8d0d04-8481-4e41-9425-b02f2694b6f8",
   "metadata": {},
   "source": [
    "### Below are a few examples of evaluating arithmetic expressions in Python"
   ]
  },
  {
   "cell_type": "markdown",
   "id": "79b1cefc-8d87-4cba-8f03-718f406c389f",
   "metadata": {},
   "source": [
    "This a simple arithmetic expression to multiply then add integers"
   ]
  },
  {
   "cell_type": "code",
   "execution_count": 2,
   "id": "38fd9e39-438e-4301-aa7b-5ffaf477949d",
   "metadata": {
    "tags": []
   },
   "outputs": [
    {
     "data": {
      "text/plain": [
       "17"
      ]
     },
     "execution_count": 2,
     "metadata": {},
     "output_type": "execute_result"
    }
   ],
   "source": [
    "(3*4)+5"
   ]
  },
  {
   "cell_type": "markdown",
   "id": "e2046871-21bc-4c0d-b079-529d68059e5e",
   "metadata": {},
   "source": [
    "This will convert 200 minutes to hours by diving by 60"
   ]
  },
  {
   "cell_type": "code",
   "execution_count": 6,
   "id": "4a858c6c-e9fd-41a2-b868-4c152fce0563",
   "metadata": {
    "tags": []
   },
   "outputs": [
    {
     "data": {
      "text/plain": [
       "3.3333333333333335"
      ]
     },
     "execution_count": 6,
     "metadata": {},
     "output_type": "execute_result"
    }
   ],
   "source": [
    "200/60"
   ]
  },
  {
   "cell_type": "markdown",
   "id": "bd366290-0f01-4d5a-9781-243bc533ef13",
   "metadata": {},
   "source": [
    "## Author \n",
    "Yash Maru "
   ]
  },
  {
   "cell_type": "code",
   "execution_count": null,
   "id": "c2e6eb63-7228-4ec8-9983-94e713533306",
   "metadata": {},
   "outputs": [],
   "source": []
  }
 ],
 "metadata": {
  "kernelspec": {
   "display_name": "Python",
   "language": "python",
   "name": "conda-env-python-py"
  },
  "language_info": {
   "codemirror_mode": {
    "name": "ipython",
    "version": 3
   },
   "file_extension": ".py",
   "mimetype": "text/x-python",
   "name": "python",
   "nbconvert_exporter": "python",
   "pygments_lexer": "ipython3",
   "version": "3.7.12"
  }
 },
 "nbformat": 4,
 "nbformat_minor": 5
}
